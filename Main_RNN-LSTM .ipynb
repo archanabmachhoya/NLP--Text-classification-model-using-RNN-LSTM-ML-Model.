{
  "nbformat": 4,
  "nbformat_minor": 0,
  "metadata": {
    "colab": {
      "provenance": []
    },
    "kernelspec": {
      "name": "python3",
      "display_name": "Python 3"
    },
    "language_info": {
      "name": "python"
    }
  },
  "cells": [
    {
      "cell_type": "markdown",
      "source": [
        "###Import Library###"
      ],
      "metadata": {
        "id": "cvquQy62QMXa"
      }
    },
    {
      "cell_type": "code",
      "execution_count": 1,
      "metadata": {
        "id": "VAJ5Cos61vIi"
      },
      "outputs": [],
      "source": [
        "import nltk\n",
        "import json\n",
        "import pandas as pd"
      ]
    },
    {
      "cell_type": "code",
      "source": [
        "nltk.download('punkt')"
      ],
      "metadata": {
        "colab": {
          "base_uri": "https://localhost:8080/"
        },
        "id": "6AFrYxwq2HEq",
        "outputId": "e4e34e1a-4ddf-4d3d-db9d-a6514ee1528f"
      },
      "execution_count": 2,
      "outputs": [
        {
          "output_type": "stream",
          "name": "stderr",
          "text": [
            "[nltk_data] Downloading package punkt to /root/nltk_data...\n",
            "[nltk_data]   Unzipping tokenizers/punkt.zip.\n"
          ]
        },
        {
          "output_type": "execute_result",
          "data": {
            "text/plain": [
              "True"
            ]
          },
          "metadata": {},
          "execution_count": 2
        }
      ]
    },
    {
      "cell_type": "code",
      "source": [
        "nltk.download('stopwords')"
      ],
      "metadata": {
        "colab": {
          "base_uri": "https://localhost:8080/"
        },
        "id": "bPVDlSh52Hh6",
        "outputId": "5a86bbe3-1213-4bca-87dd-4a357ee163d4"
      },
      "execution_count": 3,
      "outputs": [
        {
          "output_type": "stream",
          "name": "stderr",
          "text": [
            "[nltk_data] Downloading package stopwords to /root/nltk_data...\n",
            "[nltk_data]   Unzipping corpora/stopwords.zip.\n"
          ]
        },
        {
          "output_type": "execute_result",
          "data": {
            "text/plain": [
              "True"
            ]
          },
          "metadata": {},
          "execution_count": 3
        }
      ]
    },
    {
      "cell_type": "markdown",
      "source": [
        "###Load the json data###"
      ],
      "metadata": {
        "id": "FsjlcEDtQiJ7"
      }
    },
    {
      "cell_type": "code",
      "source": [
        "with open('pavbhaji.json', 'r') as file:\n",
        "    data = json.load(file)"
      ],
      "metadata": {
        "id": "YQrIkP--2J_7"
      },
      "execution_count": 4,
      "outputs": []
    },
    {
      "cell_type": "code",
      "source": [
        "# data1=pd.read_json(\"pavbhaji.json\")\n",
        "# data1.to_csv(\"op.csv\",index=False)\n"
      ],
      "metadata": {
        "id": "kUnYR9GNzj23"
      },
      "execution_count": 5,
      "outputs": []
    },
    {
      "cell_type": "code",
      "source": [
        "data[1]"
      ],
      "metadata": {
        "colab": {
          "base_uri": "https://localhost:8080/"
        },
        "id": "Fr1koLaGEVkd",
        "outputId": "7c038603-13de-495e-b48d-17d792fb11bc"
      },
      "execution_count": 6,
      "outputs": [
        {
          "output_type": "execute_result",
          "data": {
            "text/plain": [
              "{'dimensions': {'height': 750, 'width': 750},\n",
              " 'display_url': 'https://instagram.fpnq3-1.fna.fbcdn.net/vp/b0d33fc5b1b7d5e41759678f471aff19/5B8705CA/t51.2885-15/e15/36848355_187489742110497_7922878806031859712_n.jpg',\n",
              " 'edge_liked_by': {'count': 12041},\n",
              " 'edge_media_preview_like': {'count': 12041},\n",
              " 'edge_media_to_caption': {'edges': [{'node': {'text': 'देसी स्टाइल पाव भाजी/Desi Style Paav Bhaji 🇮🇳 ❤️ 🏠 ❤️🏠❤️🏠❤️🏠❤️\\n_______\\nGood Afternoon Instafamily ❤️\\n_______\\nक्या आप को पाव भाजी पसन्द हैं?😍\\nलाइक एंड कॉमेंट करके बतायें😋😍\\n_______\\nIngredients:\\n_______\\n8-10 Potatoes\\n1 Cauliflower \\n2-3 Carrot\\n1 Cup Peas\\n3 Cups Water\\n4 tbsp oil\\n1 tbsp Ginger Garlic Paste\\n2 Onions - Finely Chopped \\n3 Tomatoes - Finaly Chopped \\n1 tbsp Red Chilli Powder \\n1 tbsp Kashmiri Red Chilli\\n2-3 tbsp Pav Bhaji Masala\\nSalt to Taste\\nCoriander to Garnish\\n_______\\nRecipe:\\n_______\\n- Pressure cook roughly chopped potatoes, cauliflower, carrot & peas with 3 cups of water to 3 whistles. - Mash the boiled veggies & keep them aside. - Heat oil in a wok. - Add ginger garlic paste & cook till aroma fades away. - Add onions & cook till turn light brown. - Add tomatoes & cook till corner leaves oil. - Add red chilli powder, kashmiri chilli powder, pav bhaji masala & mix. - Add mashed veggies & salt.  Mix and cook for 7-8 mints. * Adjust consistency by adding water. - Stir & mash veggies in between. - Garnish with coriander.\\n- Serve hot with pav.\\n______\\n______\\nFollow me @sofaridabad for more homemade food updates and please Turn “ON” the post Notification.\\nUse #sofaridabad to get featured on my Page ❤️ 🇮🇳 _____\\n#pavbhaji #streetstyle #homemadewithlove #homecooked #cooking #streetfood #mumbaifoodie #views #eat #tastyfood #favourite #dish #carrot #vegetarian #vegetables #healthylifestyle #healthyfood #sokolkata #chennaifoodie #indianfoodbloggers #incredibile #india #eeeeeats #20likes #foodorgasm #foodfood #faridabad #instalove ❤️\\n_____\\n@foodiesince96 @delhi_eats @myfoodproject @nomnom24x7 @iamdatingfood @therawtextures  @sanjeevkapoor @foodiecouple_parvan @foodieincarnate @sodelhi  @foodtalkindia @eattreat @zingyzest @thisisdelhi @chefkunal @vikaskhannagroup ❤️'}}]},\n",
              " 'edge_media_to_comment': {'count': 325},\n",
              " 'id': '1826000656302706137',\n",
              " 'is_video': True,\n",
              " 'location': {'has_public_page': True,\n",
              "  'id': '245717485',\n",
              "  'name': 'Faridabad',\n",
              "  'slug': 'faridabad'},\n",
              " 'owner': {'id': '1445587278'},\n",
              " 'shortcode': 'BlXQewejY3Z',\n",
              " 'tags': ['healthyfood',\n",
              "  'sokolkata',\n",
              "  'mumbaifoodie',\n",
              "  'faridabad',\n",
              "  'indianfoodbloggers',\n",
              "  'incredibile',\n",
              "  'vegetarian',\n",
              "  'carrot',\n",
              "  'dish',\n",
              "  'cooking',\n",
              "  'streetstyle',\n",
              "  'homemadewithlove',\n",
              "  'views',\n",
              "  'india',\n",
              "  'chennaifoodie',\n",
              "  'favourite',\n",
              "  'eeeeeats',\n",
              "  'instalove',\n",
              "  'tastyfood',\n",
              "  'vegetables',\n",
              "  'eat',\n",
              "  'homecooked',\n",
              "  'streetfood',\n",
              "  'pavbhaji',\n",
              "  'foodfood',\n",
              "  'foodorgasm',\n",
              "  'sofaridabad',\n",
              "  '20likes',\n",
              "  'healthylifestyle'],\n",
              " 'taken_at_timestamp': 1531897016,\n",
              " 'thumbnail_resources': [{'config_height': 150,\n",
              "   'config_width': 150,\n",
              "   'src': 'https://instagram.fpnq3-1.fna.fbcdn.net/vp/166d08e9182b6ec9687c458854598c62/5B86B76B/t51.2885-15/e15/s150x150/36848355_187489742110497_7922878806031859712_n.jpg'},\n",
              "  {'config_height': 240,\n",
              "   'config_width': 240,\n",
              "   'src': 'https://instagram.fpnq3-1.fna.fbcdn.net/vp/86db739bd9880a2ff53160722dff869a/5B864F21/t51.2885-15/e15/s240x240/36848355_187489742110497_7922878806031859712_n.jpg'},\n",
              "  {'config_height': 320,\n",
              "   'config_width': 320,\n",
              "   'src': 'https://instagram.fpnq3-1.fna.fbcdn.net/vp/9d89b2c765ab6a4fce9c27839d0d9ab8/5B861D1B/t51.2885-15/e15/s320x320/36848355_187489742110497_7922878806031859712_n.jpg'},\n",
              "  {'config_height': 480,\n",
              "   'config_width': 480,\n",
              "   'src': 'https://instagram.fpnq3-1.fna.fbcdn.net/vp/d8cf3f14886ffb9a6438a0b10ad45824/5B8643C1/t51.2885-15/e15/s480x480/36848355_187489742110497_7922878806031859712_n.jpg'},\n",
              "  {'config_height': 640,\n",
              "   'config_width': 640,\n",
              "   'src': 'https://instagram.fpnq3-1.fna.fbcdn.net/vp/ad385017c8d5a3992a0f3b769c2cedf1/5B86B6F4/t51.2885-15/e15/s640x640/36848355_187489742110497_7922878806031859712_n.jpg'}],\n",
              " 'thumbnail_src': 'https://instagram.fpnq3-1.fna.fbcdn.net/vp/ad385017c8d5a3992a0f3b769c2cedf1/5B86B6F4/t51.2885-15/e15/s640x640/36848355_187489742110497_7922878806031859712_n.jpg',\n",
              " 'urls': ['https://instagram.fpnq3-1.fna.fbcdn.net/vp/9c8148fb7a79e11bd35b6a136235122f/5B8647AF/t50.2886-16/36730951_282501609150373_1729258772305543168_n.mp4'],\n",
              " 'video_view_count': 0}"
            ]
          },
          "metadata": {},
          "execution_count": 6
        }
      ]
    },
    {
      "cell_type": "markdown",
      "source": [
        "#### Extract texts and labels###"
      ],
      "metadata": {
        "id": "sA_AG9-QQn91"
      }
    },
    {
      "cell_type": "code",
      "source": [
        "texts = []\n",
        "labels = []\n",
        "#pattern =re.compile(r'\\bbhaji\\b', re.IGNORECASE)\n",
        "for entry in data:\n",
        "    try:\n",
        "        text = entry[\"edge_media_to_caption\"][\"edges\"][0][\"node\"][\"text\"]\n",
        "        label = 1 if \"#pavbhaji\" in text.lower()  or \"pav bhaji\" in text.lower() else 0   #pattern.search(text)\n",
        "        texts.append(text)\n",
        "        labels.append(label)\n",
        "    except (KeyError, IndexError) as e:\n",
        "        print(f\"Skipping entry due to error: {e}\")\n",
        "        print(entry)"
      ],
      "metadata": {
        "colab": {
          "base_uri": "https://localhost:8080/"
        },
        "id": "l-hvWyXM2PsF",
        "outputId": "2a9f6d03-1d49-4336-c08c-bbf5028fa0ab"
      },
      "execution_count": 50,
      "outputs": [
        {
          "output_type": "stream",
          "name": "stdout",
          "text": [
            "Skipping entry due to error: list index out of range\n",
            "{'comments_disabled': False, 'dimensions': {'height': 1080, 'width': 1080}, 'display_url': 'https://instagram.fpnq3-1.fna.fbcdn.net/vp/c6dac55b57c2e87ecb96315519b1459c/5C02F331/t51.2885-15/e35/38885028_254267458551198_8280479196141060096_n.jpg', 'edge_liked_by': {'count': 17}, 'edge_media_preview_like': {'count': 17}, 'edge_media_to_caption': {'edges': []}, 'edge_media_to_comment': {'count': 2}, 'id': '1850713497443087014', 'is_video': False, 'location': {'has_public_page': True, 'id': '216978098', 'name': 'Mumbai, Maharashtra', 'slug': 'mumbai-maharashtra'}, 'owner': {'id': '8430771130'}, 'shortcode': 'BmvDh7UHbKm', 'taken_at_timestamp': 1534842262, 'thumbnail_resources': [{'config_height': 150, 'config_width': 150, 'src': 'https://instagram.fpnq3-1.fna.fbcdn.net/vp/84b28b95442e3eedaa87eed3dde75f26/5C314973/t51.2885-15/e35/s150x150/38885028_254267458551198_8280479196141060096_n.jpg'}, {'config_height': 240, 'config_width': 240, 'src': 'https://instagram.fpnq3-1.fna.fbcdn.net/vp/b02ac51526637d5565134f3df8d92c91/5C17DD39/t51.2885-15/e35/s240x240/38885028_254267458551198_8280479196141060096_n.jpg'}, {'config_height': 320, 'config_width': 320, 'src': 'https://instagram.fpnq3-1.fna.fbcdn.net/vp/6c492e6af0a42dadceffa8b171320c88/5C33FF83/t51.2885-15/e35/s320x320/38885028_254267458551198_8280479196141060096_n.jpg'}, {'config_height': 480, 'config_width': 480, 'src': 'https://instagram.fpnq3-1.fna.fbcdn.net/vp/e5a1821183e9735be942bae27f7f4ad6/5C04B8D9/t51.2885-15/e35/s480x480/38885028_254267458551198_8280479196141060096_n.jpg'}, {'config_height': 640, 'config_width': 640, 'src': 'https://instagram.fpnq3-1.fna.fbcdn.net/vp/2d2e6ce1e386e5a919fcd3abc6f27090/5C35FED4/t51.2885-15/sh0.08/e35/s640x640/38885028_254267458551198_8280479196141060096_n.jpg'}], 'thumbnail_src': 'https://instagram.fpnq3-1.fna.fbcdn.net/vp/2d2e6ce1e386e5a919fcd3abc6f27090/5C35FED4/t51.2885-15/sh0.08/e35/s640x640/38885028_254267458551198_8280479196141060096_n.jpg', 'urls': ['https://instagram.fpnq4-1.fna.fbcdn.net/vp/c6dac55b57c2e87ecb96315519b1459c/5C02F331/t51.2885-15/e35/38885028_254267458551198_8280479196141060096_n.jpg']}\n"
          ]
        }
      ]
    },
    {
      "cell_type": "code",
      "source": [
        "# Create a DataFrame\n",
        "df = pd.DataFrame({'Text': texts, 'Label': labels})"
      ],
      "metadata": {
        "id": "1RU59hK7fpNO"
      },
      "execution_count": 51,
      "outputs": []
    },
    {
      "cell_type": "code",
      "source": [
        "df[1:5]\n"
      ],
      "metadata": {
        "colab": {
          "base_uri": "https://localhost:8080/",
          "height": 175
        },
        "id": "Q8sFgecMftjQ",
        "outputId": "2164cf8d-df46-402b-8e27-55c7c02c6f06"
      },
      "execution_count": 52,
      "outputs": [
        {
          "output_type": "execute_result",
          "data": {
            "text/plain": [
              "                                                Text  Label\n",
              "1  देसी स्टाइल पाव भाजी/Desi Style Paav Bhaji 🇮🇳 ...      1\n",
              "2  Pav Bhaji😍😍😋\\n.\\nFollow @street_food_chandigar...      1\n",
              "3  Asli Makhan Pav bhaji 😍😋\\nTag someone who love...      1\n",
              "4                        Tag a Pav bhaji lover 👇🏻 😋😋      1"
            ],
            "text/html": [
              "\n",
              "  <div id=\"df-c9441dd4-47ca-4c1f-8da2-44b4737d4083\" class=\"colab-df-container\">\n",
              "    <div>\n",
              "<style scoped>\n",
              "    .dataframe tbody tr th:only-of-type {\n",
              "        vertical-align: middle;\n",
              "    }\n",
              "\n",
              "    .dataframe tbody tr th {\n",
              "        vertical-align: top;\n",
              "    }\n",
              "\n",
              "    .dataframe thead th {\n",
              "        text-align: right;\n",
              "    }\n",
              "</style>\n",
              "<table border=\"1\" class=\"dataframe\">\n",
              "  <thead>\n",
              "    <tr style=\"text-align: right;\">\n",
              "      <th></th>\n",
              "      <th>Text</th>\n",
              "      <th>Label</th>\n",
              "    </tr>\n",
              "  </thead>\n",
              "  <tbody>\n",
              "    <tr>\n",
              "      <th>1</th>\n",
              "      <td>देसी स्टाइल पाव भाजी/Desi Style Paav Bhaji 🇮🇳 ...</td>\n",
              "      <td>1</td>\n",
              "    </tr>\n",
              "    <tr>\n",
              "      <th>2</th>\n",
              "      <td>Pav Bhaji😍😍😋\\n.\\nFollow @street_food_chandigar...</td>\n",
              "      <td>1</td>\n",
              "    </tr>\n",
              "    <tr>\n",
              "      <th>3</th>\n",
              "      <td>Asli Makhan Pav bhaji 😍😋\\nTag someone who love...</td>\n",
              "      <td>1</td>\n",
              "    </tr>\n",
              "    <tr>\n",
              "      <th>4</th>\n",
              "      <td>Tag a Pav bhaji lover 👇🏻 😋😋</td>\n",
              "      <td>1</td>\n",
              "    </tr>\n",
              "  </tbody>\n",
              "</table>\n",
              "</div>\n",
              "    <div class=\"colab-df-buttons\">\n",
              "\n",
              "  <div class=\"colab-df-container\">\n",
              "    <button class=\"colab-df-convert\" onclick=\"convertToInteractive('df-c9441dd4-47ca-4c1f-8da2-44b4737d4083')\"\n",
              "            title=\"Convert this dataframe to an interactive table.\"\n",
              "            style=\"display:none;\">\n",
              "\n",
              "  <svg xmlns=\"http://www.w3.org/2000/svg\" height=\"24px\" viewBox=\"0 -960 960 960\">\n",
              "    <path d=\"M120-120v-720h720v720H120Zm60-500h600v-160H180v160Zm220 220h160v-160H400v160Zm0 220h160v-160H400v160ZM180-400h160v-160H180v160Zm440 0h160v-160H620v160ZM180-180h160v-160H180v160Zm440 0h160v-160H620v160Z\"/>\n",
              "  </svg>\n",
              "    </button>\n",
              "\n",
              "  <style>\n",
              "    .colab-df-container {\n",
              "      display:flex;\n",
              "      gap: 12px;\n",
              "    }\n",
              "\n",
              "    .colab-df-convert {\n",
              "      background-color: #E8F0FE;\n",
              "      border: none;\n",
              "      border-radius: 50%;\n",
              "      cursor: pointer;\n",
              "      display: none;\n",
              "      fill: #1967D2;\n",
              "      height: 32px;\n",
              "      padding: 0 0 0 0;\n",
              "      width: 32px;\n",
              "    }\n",
              "\n",
              "    .colab-df-convert:hover {\n",
              "      background-color: #E2EBFA;\n",
              "      box-shadow: 0px 1px 2px rgba(60, 64, 67, 0.3), 0px 1px 3px 1px rgba(60, 64, 67, 0.15);\n",
              "      fill: #174EA6;\n",
              "    }\n",
              "\n",
              "    .colab-df-buttons div {\n",
              "      margin-bottom: 4px;\n",
              "    }\n",
              "\n",
              "    [theme=dark] .colab-df-convert {\n",
              "      background-color: #3B4455;\n",
              "      fill: #D2E3FC;\n",
              "    }\n",
              "\n",
              "    [theme=dark] .colab-df-convert:hover {\n",
              "      background-color: #434B5C;\n",
              "      box-shadow: 0px 1px 3px 1px rgba(0, 0, 0, 0.15);\n",
              "      filter: drop-shadow(0px 1px 2px rgba(0, 0, 0, 0.3));\n",
              "      fill: #FFFFFF;\n",
              "    }\n",
              "  </style>\n",
              "\n",
              "    <script>\n",
              "      const buttonEl =\n",
              "        document.querySelector('#df-c9441dd4-47ca-4c1f-8da2-44b4737d4083 button.colab-df-convert');\n",
              "      buttonEl.style.display =\n",
              "        google.colab.kernel.accessAllowed ? 'block' : 'none';\n",
              "\n",
              "      async function convertToInteractive(key) {\n",
              "        const element = document.querySelector('#df-c9441dd4-47ca-4c1f-8da2-44b4737d4083');\n",
              "        const dataTable =\n",
              "          await google.colab.kernel.invokeFunction('convertToInteractive',\n",
              "                                                    [key], {});\n",
              "        if (!dataTable) return;\n",
              "\n",
              "        const docLinkHtml = 'Like what you see? Visit the ' +\n",
              "          '<a target=\"_blank\" href=https://colab.research.google.com/notebooks/data_table.ipynb>data table notebook</a>'\n",
              "          + ' to learn more about interactive tables.';\n",
              "        element.innerHTML = '';\n",
              "        dataTable['output_type'] = 'display_data';\n",
              "        await google.colab.output.renderOutput(dataTable, element);\n",
              "        const docLink = document.createElement('div');\n",
              "        docLink.innerHTML = docLinkHtml;\n",
              "        element.appendChild(docLink);\n",
              "      }\n",
              "    </script>\n",
              "  </div>\n",
              "\n",
              "\n",
              "<div id=\"df-6bc139ee-ea02-45c4-996a-680f41530a7a\">\n",
              "  <button class=\"colab-df-quickchart\" onclick=\"quickchart('df-6bc139ee-ea02-45c4-996a-680f41530a7a')\"\n",
              "            title=\"Suggest charts\"\n",
              "            style=\"display:none;\">\n",
              "\n",
              "<svg xmlns=\"http://www.w3.org/2000/svg\" height=\"24px\"viewBox=\"0 0 24 24\"\n",
              "     width=\"24px\">\n",
              "    <g>\n",
              "        <path d=\"M19 3H5c-1.1 0-2 .9-2 2v14c0 1.1.9 2 2 2h14c1.1 0 2-.9 2-2V5c0-1.1-.9-2-2-2zM9 17H7v-7h2v7zm4 0h-2V7h2v10zm4 0h-2v-4h2v4z\"/>\n",
              "    </g>\n",
              "</svg>\n",
              "  </button>\n",
              "\n",
              "<style>\n",
              "  .colab-df-quickchart {\n",
              "      --bg-color: #E8F0FE;\n",
              "      --fill-color: #1967D2;\n",
              "      --hover-bg-color: #E2EBFA;\n",
              "      --hover-fill-color: #174EA6;\n",
              "      --disabled-fill-color: #AAA;\n",
              "      --disabled-bg-color: #DDD;\n",
              "  }\n",
              "\n",
              "  [theme=dark] .colab-df-quickchart {\n",
              "      --bg-color: #3B4455;\n",
              "      --fill-color: #D2E3FC;\n",
              "      --hover-bg-color: #434B5C;\n",
              "      --hover-fill-color: #FFFFFF;\n",
              "      --disabled-bg-color: #3B4455;\n",
              "      --disabled-fill-color: #666;\n",
              "  }\n",
              "\n",
              "  .colab-df-quickchart {\n",
              "    background-color: var(--bg-color);\n",
              "    border: none;\n",
              "    border-radius: 50%;\n",
              "    cursor: pointer;\n",
              "    display: none;\n",
              "    fill: var(--fill-color);\n",
              "    height: 32px;\n",
              "    padding: 0;\n",
              "    width: 32px;\n",
              "  }\n",
              "\n",
              "  .colab-df-quickchart:hover {\n",
              "    background-color: var(--hover-bg-color);\n",
              "    box-shadow: 0 1px 2px rgba(60, 64, 67, 0.3), 0 1px 3px 1px rgba(60, 64, 67, 0.15);\n",
              "    fill: var(--button-hover-fill-color);\n",
              "  }\n",
              "\n",
              "  .colab-df-quickchart-complete:disabled,\n",
              "  .colab-df-quickchart-complete:disabled:hover {\n",
              "    background-color: var(--disabled-bg-color);\n",
              "    fill: var(--disabled-fill-color);\n",
              "    box-shadow: none;\n",
              "  }\n",
              "\n",
              "  .colab-df-spinner {\n",
              "    border: 2px solid var(--fill-color);\n",
              "    border-color: transparent;\n",
              "    border-bottom-color: var(--fill-color);\n",
              "    animation:\n",
              "      spin 1s steps(1) infinite;\n",
              "  }\n",
              "\n",
              "  @keyframes spin {\n",
              "    0% {\n",
              "      border-color: transparent;\n",
              "      border-bottom-color: var(--fill-color);\n",
              "      border-left-color: var(--fill-color);\n",
              "    }\n",
              "    20% {\n",
              "      border-color: transparent;\n",
              "      border-left-color: var(--fill-color);\n",
              "      border-top-color: var(--fill-color);\n",
              "    }\n",
              "    30% {\n",
              "      border-color: transparent;\n",
              "      border-left-color: var(--fill-color);\n",
              "      border-top-color: var(--fill-color);\n",
              "      border-right-color: var(--fill-color);\n",
              "    }\n",
              "    40% {\n",
              "      border-color: transparent;\n",
              "      border-right-color: var(--fill-color);\n",
              "      border-top-color: var(--fill-color);\n",
              "    }\n",
              "    60% {\n",
              "      border-color: transparent;\n",
              "      border-right-color: var(--fill-color);\n",
              "    }\n",
              "    80% {\n",
              "      border-color: transparent;\n",
              "      border-right-color: var(--fill-color);\n",
              "      border-bottom-color: var(--fill-color);\n",
              "    }\n",
              "    90% {\n",
              "      border-color: transparent;\n",
              "      border-bottom-color: var(--fill-color);\n",
              "    }\n",
              "  }\n",
              "</style>\n",
              "\n",
              "  <script>\n",
              "    async function quickchart(key) {\n",
              "      const quickchartButtonEl =\n",
              "        document.querySelector('#' + key + ' button');\n",
              "      quickchartButtonEl.disabled = true;  // To prevent multiple clicks.\n",
              "      quickchartButtonEl.classList.add('colab-df-spinner');\n",
              "      try {\n",
              "        const charts = await google.colab.kernel.invokeFunction(\n",
              "            'suggestCharts', [key], {});\n",
              "      } catch (error) {\n",
              "        console.error('Error during call to suggestCharts:', error);\n",
              "      }\n",
              "      quickchartButtonEl.classList.remove('colab-df-spinner');\n",
              "      quickchartButtonEl.classList.add('colab-df-quickchart-complete');\n",
              "    }\n",
              "    (() => {\n",
              "      let quickchartButtonEl =\n",
              "        document.querySelector('#df-6bc139ee-ea02-45c4-996a-680f41530a7a button');\n",
              "      quickchartButtonEl.style.display =\n",
              "        google.colab.kernel.accessAllowed ? 'block' : 'none';\n",
              "    })();\n",
              "  </script>\n",
              "</div>\n",
              "    </div>\n",
              "  </div>\n"
            ]
          },
          "metadata": {},
          "execution_count": 52
        }
      ]
    },
    {
      "cell_type": "code",
      "source": [
        "df['Label'].value_counts() #data is imbalace"
      ],
      "metadata": {
        "colab": {
          "base_uri": "https://localhost:8080/"
        },
        "id": "fkLXhK34g9vH",
        "outputId": "e3b7f9f6-d532-4319-eebd-e87d71f0f197"
      },
      "execution_count": 53,
      "outputs": [
        {
          "output_type": "execute_result",
          "data": {
            "text/plain": [
              "1    1490\n",
              "0       9\n",
              "Name: Label, dtype: int64"
            ]
          },
          "metadata": {},
          "execution_count": 53
        }
      ]
    },
    {
      "cell_type": "code",
      "source": [
        "len(texts)"
      ],
      "metadata": {
        "colab": {
          "base_uri": "https://localhost:8080/"
        },
        "id": "_uCtYXe6fFYJ",
        "outputId": "de7d5d59-5cea-47af-986e-6ab0fa42cdd2"
      },
      "execution_count": 54,
      "outputs": [
        {
          "output_type": "execute_result",
          "data": {
            "text/plain": [
              "1499"
            ]
          },
          "metadata": {},
          "execution_count": 54
        }
      ]
    },
    {
      "cell_type": "markdown",
      "source": [
        "###Text Preprocessing ###"
      ],
      "metadata": {
        "id": "sPBtuZtVRpxS"
      }
    },
    {
      "cell_type": "code",
      "source": [
        "import re\n",
        "from nltk.tokenize import word_tokenize\n",
        "from nltk.corpus import stopwords\n",
        "\n",
        "def preprocess_text(text):\n",
        "    text = text.lower()\n",
        "    text = re.sub(r'[^a-z]', ' ', text)\n",
        "    words = word_tokenize(text)\n",
        "    words = [word for word in words if word not in stopwords.words('english')]\n",
        "    return ' '.join(words)\n",
        "\n",
        "cleaned_text_features = [preprocess_text(text) for text in texts]"
      ],
      "metadata": {
        "id": "l9eTWmCd2dfD"
      },
      "execution_count": 55,
      "outputs": []
    },
    {
      "cell_type": "code",
      "source": [
        "cleaned_text_features[1:5]"
      ],
      "metadata": {
        "colab": {
          "base_uri": "https://localhost:8080/"
        },
        "id": "dzPcZTDetEn9",
        "outputId": "5ac431f8-0239-442a-f3d2-a631c6f07de4"
      },
      "execution_count": 56,
      "outputs": [
        {
          "output_type": "execute_result",
          "data": {
            "text/plain": [
              "['desi style paav bhaji good afternoon instafamily ingredients potatoes cauliflower carrot cup peas cups water tbsp oil tbsp ginger garlic paste onions finely chopped tomatoes finaly chopped tbsp red chilli powder tbsp kashmiri red chilli tbsp pav bhaji masala salt taste coriander garnish recipe pressure cook roughly chopped potatoes cauliflower carrot peas cups water whistles mash boiled veggies keep aside heat oil wok add ginger garlic paste cook till aroma fades away add onions cook till turn light brown add tomatoes cook till corner leaves oil add red chilli powder kashmiri chilli powder pav bhaji masala mix add mashed veggies salt mix cook mints adjust consistency adding water stir mash veggies garnish coriander serve hot pav follow sofaridabad homemade food updates please turn post notification use sofaridabad get featured page pavbhaji streetstyle homemadewithlove homecooked cooking streetfood mumbaifoodie views eat tastyfood favourite dish carrot vegetarian vegetables healthylifestyle healthyfood sokolkata chennaifoodie indianfoodbloggers incredibile india eeeeeats likes foodorgasm foodfood faridabad instalove foodiesince delhi eats myfoodproject nomnom x iamdatingfood therawtextures sanjeevkapoor foodiecouple parvan foodieincarnate sodelhi foodtalkindia eattreat zingyzest thisisdelhi chefkunal vikaskhannagroup',\n",
              " 'pav bhaji follow street food chandigarh use streetfoodchandigarh picoftheday foodholic delhigram instashot soogood mumbaipeople nom delhiflavours feedfeed foodphotography eeeeats nomnom chessy pull pavbhaji foodtalkindia sodelicious sodelhi tastyfood delhiboy chickenislife mumbaifood therawtextures foodiesince foodgasm vascom foodlover',\n",
              " 'asli makhan pav bhaji tag someone loves creamcentrenagpur fine dine restaurant good place vegetarians located prime location city satisfying pavbhaji loveit follow misscravingbuster misscravingbuster misscravingbuster misscravingbuster misscravingbuster pavbhaji creamcentrenagpur creamcentre nagpur delhi mumbai viralvideos nagpurfoodblogger foodforfoodie foodblogger foodislove foodislife foodforever instagood besmartnloveall rockingindians foodvideo plixoo thepost today plixooblogger likeforlike vforveggie veganpost zingyzest thegreatindianfoodie justdelhiing insiderdessert bestfood aroundtheworld eattreat saadidilli delhi eats dilli ke pakwan nomnom x saadidilli bruisedpassports khau gali foodie foodiebaniya plixxo popxoyum v veggie tastemade taste eat devourpower thisisinsiderfood foodbeast foodtalkindia foodyfetish zingyzest foodnetwork trellingfood bbcgoodfood noleftovers trellingnagpur whatdillieats food lunatic foodofmumbai poojadhingra',\n",
              " 'tag pav bhaji lover']"
            ]
          },
          "metadata": {},
          "execution_count": 56
        }
      ]
    },
    {
      "cell_type": "markdown",
      "source": [
        "###Creating Model###"
      ],
      "metadata": {
        "id": "oo-fk_kDRuuE"
      }
    },
    {
      "cell_type": "code",
      "source": [
        "from sklearn.model_selection import train_test_split\n",
        "from tensorflow.keras.preprocessing.text import one_hot\n",
        "from tensorflow.keras.models import Sequential\n",
        "from tensorflow.keras.layers import Embedding, LSTM, Dense, SpatialDropout1D\n",
        "from tensorflow.keras.preprocessing.sequence import pad_sequences\n",
        "from tensorflow.keras.layers import Dropout\n",
        "from tensorflow.keras.regularizers import l2"
      ],
      "metadata": {
        "id": "5jH6AiiE20DR"
      },
      "execution_count": 57,
      "outputs": []
    },
    {
      "cell_type": "markdown",
      "source": [
        "###Generating onehot Represenation, Embedding layer, and Padding###"
      ],
      "metadata": {
        "id": "EMZVK5GJR6ZR"
      }
    },
    {
      "cell_type": "code",
      "source": [
        "voc_size =5000"
      ],
      "metadata": {
        "id": "hPY9qvH23nXr"
      },
      "execution_count": 58,
      "outputs": []
    },
    {
      "cell_type": "code",
      "source": [
        "#onehot_rep\n",
        "onehot_rep = [one_hot(words, voc_size)for words in cleaned_text_features ]"
      ],
      "metadata": {
        "id": "uGrHXdji3qpQ"
      },
      "execution_count": 59,
      "outputs": []
    },
    {
      "cell_type": "code",
      "source": [
        "onehot_rep[0]"
      ],
      "metadata": {
        "colab": {
          "base_uri": "https://localhost:8080/"
        },
        "id": "PhjZuHaLtMYU",
        "outputId": "4c20d0d5-2884-4678-d20a-2db1c3fe0392"
      },
      "execution_count": 60,
      "outputs": [
        {
          "output_type": "execute_result",
          "data": {
            "text/plain": [
              "[2663,\n",
              " 2343,\n",
              " 731,\n",
              " 4930,\n",
              " 1061,\n",
              " 4996,\n",
              " 3675,\n",
              " 4025,\n",
              " 2298,\n",
              " 3842,\n",
              " 1058,\n",
              " 3288,\n",
              " 2663,\n",
              " 1294,\n",
              " 747,\n",
              " 3842,\n",
              " 3460,\n",
              " 87,\n",
              " 1034,\n",
              " 1810,\n",
              " 1527,\n",
              " 4044,\n",
              " 2063,\n",
              " 427,\n",
              " 3771,\n",
              " 3626,\n",
              " 3164,\n",
              " 2412,\n",
              " 549,\n",
              " 1012,\n",
              " 2791,\n",
              " 4869,\n",
              " 2283,\n",
              " 2255,\n",
              " 2206,\n",
              " 1945,\n",
              " 1034,\n",
              " 33,\n",
              " 4493,\n",
              " 869,\n",
              " 562,\n",
              " 2347,\n",
              " 2565,\n",
              " 32,\n",
              " 3678]"
            ]
          },
          "metadata": {},
          "execution_count": 60
        }
      ]
    },
    {
      "cell_type": "code",
      "source": [
        "#padding\n",
        "sent_length = 150"
      ],
      "metadata": {
        "id": "W-6NR9zQ19wf"
      },
      "execution_count": 61,
      "outputs": []
    },
    {
      "cell_type": "code",
      "source": [
        "x_padded = pad_sequences(onehot_rep, maxlen=sent_length, padding='pre')\n",
        "print(x_padded)"
      ],
      "metadata": {
        "colab": {
          "base_uri": "https://localhost:8080/"
        },
        "id": "kokHL7VN8q4t",
        "outputId": "5071bc3c-a4da-4996-b281-3dcfb6450883"
      },
      "execution_count": 62,
      "outputs": [
        {
          "output_type": "stream",
          "name": "stdout",
          "text": [
            "[[   0    0    0 ... 2565   32 3678]\n",
            " [4517 3934 4548 ... 4643 4631  408]\n",
            " [   0    0    0 ... 1012 1788 1078]\n",
            " ...\n",
            " [   0    0    0 ... 3614 2973 1785]\n",
            " [   0    0    0 ... 2603 4894 2116]\n",
            " [   0    0    0 ... 2725 4662 3243]]\n"
          ]
        }
      ]
    },
    {
      "cell_type": "markdown",
      "source": [
        "###Generate Model (Embedding Layer, Dropoutlayer, LSTM with L2 Regularization, Dese layer)###"
      ],
      "metadata": {
        "id": "DV1jPKhlSMcZ"
      }
    },
    {
      "cell_type": "code",
      "source": [
        "#creating model\n",
        "embedding_vector_features = 100\n",
        "model = Sequential()\n",
        "model.add(Embedding(voc_size, embedding_vector_features, input_length=sent_length))\n",
        "#model.add(SpatialDropout1D(0.3))\n",
        "model.add(LSTM(100, kernel_regularizer=l2(0.01),recurrent_regularizer=l2(0.01)))\n",
        "model.add(Dropout(0.5))\n",
        "model.add(Dense(1, activation= 'sigmoid'))\n"
      ],
      "metadata": {
        "id": "C_LrMskO9Ti4"
      },
      "execution_count": 63,
      "outputs": []
    },
    {
      "cell_type": "markdown",
      "source": [
        "###Compile the model###"
      ],
      "metadata": {
        "id": "7ZY57w-vSPjY"
      }
    },
    {
      "cell_type": "code",
      "source": [
        "model.compile(optimizer='adam', loss='binary_crossentropy', metrics=['accuracy'])"
      ],
      "metadata": {
        "id": "2rNzJRf_9xYR"
      },
      "execution_count": 64,
      "outputs": []
    },
    {
      "cell_type": "code",
      "source": [
        "print(model.summary())"
      ],
      "metadata": {
        "colab": {
          "base_uri": "https://localhost:8080/"
        },
        "id": "y5SxbcX9-1my",
        "outputId": "fd922568-76ed-4b14-9143-3cb273313c2c"
      },
      "execution_count": 65,
      "outputs": [
        {
          "output_type": "stream",
          "name": "stdout",
          "text": [
            "Model: \"sequential_1\"\n",
            "_________________________________________________________________\n",
            " Layer (type)                Output Shape              Param #   \n",
            "=================================================================\n",
            " embedding_1 (Embedding)     (None, 150, 100)          500000    \n",
            "                                                                 \n",
            " lstm_1 (LSTM)               (None, 100)               80400     \n",
            "                                                                 \n",
            " dropout_1 (Dropout)         (None, 100)               0         \n",
            "                                                                 \n",
            " dense_1 (Dense)             (None, 1)                 101       \n",
            "                                                                 \n",
            "=================================================================\n",
            "Total params: 580501 (2.21 MB)\n",
            "Trainable params: 580501 (2.21 MB)\n",
            "Non-trainable params: 0 (0.00 Byte)\n",
            "_________________________________________________________________\n",
            "None\n"
          ]
        }
      ]
    },
    {
      "cell_type": "code",
      "source": [
        "print(model.predict(x_padded))"
      ],
      "metadata": {
        "colab": {
          "base_uri": "https://localhost:8080/"
        },
        "id": "-oqMsGBMWNYZ",
        "outputId": "f48c1676-9c34-430b-ada8-185f3bfdc2b0"
      },
      "execution_count": 66,
      "outputs": [
        {
          "output_type": "stream",
          "name": "stdout",
          "text": [
            "47/47 [==============================] - 2s 44ms/step\n",
            "[[0.4995479 ]\n",
            " [0.50072306]\n",
            " [0.49830073]\n",
            " ...\n",
            " [0.5021452 ]\n",
            " [0.5027517 ]\n",
            " [0.5010066 ]]\n"
          ]
        }
      ]
    },
    {
      "cell_type": "code",
      "source": [
        "###convert into array###"
      ],
      "metadata": {
        "id": "2FtFXXO_SnNT"
      },
      "execution_count": 67,
      "outputs": []
    },
    {
      "cell_type": "code",
      "source": [
        "import numpy as np"
      ],
      "metadata": {
        "id": "FQHlmfqU-5b2"
      },
      "execution_count": 68,
      "outputs": []
    },
    {
      "cell_type": "code",
      "source": [
        "x_final = np.array(x_padded)"
      ],
      "metadata": {
        "id": "t-65QInw_G2U"
      },
      "execution_count": 69,
      "outputs": []
    },
    {
      "cell_type": "code",
      "source": [
        "y_final = np.array(labels)"
      ],
      "metadata": {
        "id": "KLI8Nu6l_WCC"
      },
      "execution_count": 70,
      "outputs": []
    },
    {
      "cell_type": "markdown",
      "source": [
        "###Split the train test data###"
      ],
      "metadata": {
        "id": "wzkfjzVtSkhX"
      }
    },
    {
      "cell_type": "code",
      "source": [
        "X_train, X_test, y_train, y_test = train_test_split(x_final, y_final, test_size=0.2, random_state=42)"
      ],
      "metadata": {
        "id": "iKdJBGjx_0gr"
      },
      "execution_count": 71,
      "outputs": []
    },
    {
      "cell_type": "markdown",
      "source": [
        "###Apply SMOTE to balance the data###"
      ],
      "metadata": {
        "id": "c-PJ8L9hSmuS"
      }
    },
    {
      "cell_type": "code",
      "source": [
        "from imblearn.over_sampling import SMOTE\n",
        "smote = SMOTE(random_state=42)\n",
        "X_train_resampled, y_train_resampled = smote.fit_resample(X_train, y_train)"
      ],
      "metadata": {
        "id": "kwxiyhX9HAei"
      },
      "execution_count": 72,
      "outputs": []
    },
    {
      "cell_type": "code",
      "source": [
        "(y_train_resampled).shape"
      ],
      "metadata": {
        "colab": {
          "base_uri": "https://localhost:8080/"
        },
        "id": "hnvwS8tKSbNe",
        "outputId": "3bb16887-8de1-4556-9cf9-3edba16d3f65"
      },
      "execution_count": 73,
      "outputs": [
        {
          "output_type": "execute_result",
          "data": {
            "text/plain": [
              "(2386,)"
            ]
          },
          "metadata": {},
          "execution_count": 73
        }
      ]
    },
    {
      "cell_type": "code",
      "source": [
        "counts = np.bincount(y_train_resampled)\n",
        "counts\n",
        "count_0 = counts[0]\n",
        "count_1 = counts[1]\n",
        "\n"
      ],
      "metadata": {
        "id": "6frjPDG2Jhjj"
      },
      "execution_count": 74,
      "outputs": []
    },
    {
      "cell_type": "code",
      "source": [
        "count_0"
      ],
      "metadata": {
        "colab": {
          "base_uri": "https://localhost:8080/"
        },
        "id": "ukm8xlCqJwOk",
        "outputId": "8e0b471f-2bac-4433-bf92-d00726827de3"
      },
      "execution_count": 75,
      "outputs": [
        {
          "output_type": "execute_result",
          "data": {
            "text/plain": [
              "1193"
            ]
          },
          "metadata": {},
          "execution_count": 75
        }
      ]
    },
    {
      "cell_type": "code",
      "source": [
        "y_test.shape"
      ],
      "metadata": {
        "id": "vT7STWkHSl9z",
        "colab": {
          "base_uri": "https://localhost:8080/"
        },
        "outputId": "a2249375-be30-4a29-b0be-e6709fe8eb34"
      },
      "execution_count": 76,
      "outputs": [
        {
          "output_type": "execute_result",
          "data": {
            "text/plain": [
              "(300,)"
            ]
          },
          "metadata": {},
          "execution_count": 76
        }
      ]
    },
    {
      "cell_type": "code",
      "source": [
        "print( type(X_train))\n",
        "print(type(y_train))"
      ],
      "metadata": {
        "id": "7D02IbcjTq6E",
        "colab": {
          "base_uri": "https://localhost:8080/"
        },
        "outputId": "424ba137-50e2-4682-9e03-7f0e34945d8f"
      },
      "execution_count": 77,
      "outputs": [
        {
          "output_type": "stream",
          "name": "stdout",
          "text": [
            "<class 'numpy.ndarray'>\n",
            "<class 'numpy.ndarray'>\n"
          ]
        }
      ]
    },
    {
      "cell_type": "markdown",
      "source": [
        "####Train the Model###"
      ],
      "metadata": {
        "id": "TRM_5h8oK07F"
      }
    },
    {
      "cell_type": "code",
      "source": [
        "#model_training\n",
        "model.fit(X_train_resampled,y_train_resampled, epochs=10, batch_size=64, validation_data=(X_test,y_test ) )"
      ],
      "metadata": {
        "colab": {
          "base_uri": "https://localhost:8080/"
        },
        "id": "tHN8ISSX_2Pp",
        "outputId": "01c72523-4f49-44b0-f703-fe147252e1c7"
      },
      "execution_count": 78,
      "outputs": [
        {
          "output_type": "stream",
          "name": "stdout",
          "text": [
            "Epoch 1/10\n",
            "38/38 [==============================] - 15s 305ms/step - loss: 2.2095 - accuracy: 0.7703 - val_loss: 1.2080 - val_accuracy: 0.9500\n",
            "Epoch 2/10\n",
            "38/38 [==============================] - 10s 252ms/step - loss: 0.7042 - accuracy: 0.9531 - val_loss: 0.4796 - val_accuracy: 0.9567\n",
            "Epoch 3/10\n",
            "38/38 [==============================] - 11s 296ms/step - loss: 0.2915 - accuracy: 0.9941 - val_loss: 0.2881 - val_accuracy: 0.9633\n",
            "Epoch 4/10\n",
            "38/38 [==============================] - 12s 304ms/step - loss: 0.1640 - accuracy: 0.9983 - val_loss: 0.1969 - val_accuracy: 0.9767\n",
            "Epoch 5/10\n",
            "38/38 [==============================] - 11s 293ms/step - loss: 0.1148 - accuracy: 0.9992 - val_loss: 0.1722 - val_accuracy: 0.9767\n",
            "Epoch 6/10\n",
            "38/38 [==============================] - 9s 243ms/step - loss: 0.0887 - accuracy: 0.9987 - val_loss: 0.2791 - val_accuracy: 0.9300\n",
            "Epoch 7/10\n",
            "38/38 [==============================] - 11s 297ms/step - loss: 0.0948 - accuracy: 0.9979 - val_loss: 0.1157 - val_accuracy: 0.9833\n",
            "Epoch 8/10\n",
            "38/38 [==============================] - 11s 301ms/step - loss: 0.0637 - accuracy: 0.9987 - val_loss: 0.1020 - val_accuracy: 0.9867\n",
            "Epoch 9/10\n",
            "38/38 [==============================] - 12s 311ms/step - loss: 0.0538 - accuracy: 0.9996 - val_loss: 0.1167 - val_accuracy: 0.9767\n",
            "Epoch 10/10\n",
            "38/38 [==============================] - 9s 241ms/step - loss: 0.0515 - accuracy: 0.9996 - val_loss: 0.0988 - val_accuracy: 0.9833\n"
          ]
        },
        {
          "output_type": "execute_result",
          "data": {
            "text/plain": [
              "<keras.src.callbacks.History at 0x7eb989ff2fe0>"
            ]
          },
          "metadata": {},
          "execution_count": 78
        }
      ]
    },
    {
      "cell_type": "markdown",
      "source": [
        "###Model Predicaton###"
      ],
      "metadata": {
        "id": "yxjhX4xeKWlO"
      }
    },
    {
      "cell_type": "code",
      "source": [
        "model_pred = model.predict(X_test)\n",
        "predictions_test = np.round(model_pred).flatten().astype(int)"
      ],
      "metadata": {
        "colab": {
          "base_uri": "https://localhost:8080/"
        },
        "id": "yemFORVQA_jx",
        "outputId": "e9a86020-b10a-4eef-f73f-72397e79e303"
      },
      "execution_count": 79,
      "outputs": [
        {
          "output_type": "stream",
          "name": "stdout",
          "text": [
            "10/10 [==============================] - 0s 32ms/step\n"
          ]
        }
      ]
    },
    {
      "cell_type": "markdown",
      "source": [
        "###Evaluate the model###"
      ],
      "metadata": {
        "id": "uULYPFXCKkOX"
      }
    },
    {
      "cell_type": "code",
      "source": [
        "from sklearn.metrics import accuracy_score, classification_report"
      ],
      "metadata": {
        "id": "9prSxuI3CYgs"
      },
      "execution_count": 80,
      "outputs": []
    },
    {
      "cell_type": "code",
      "source": [
        "print(type(y_test), type(predictions_test))"
      ],
      "metadata": {
        "colab": {
          "base_uri": "https://localhost:8080/"
        },
        "id": "dJKd3xGJDy4s",
        "outputId": "4272a224-d604-400d-bc0b-3e3d6b544ea7"
      },
      "execution_count": 81,
      "outputs": [
        {
          "output_type": "stream",
          "name": "stdout",
          "text": [
            "<class 'numpy.ndarray'> <class 'numpy.ndarray'>\n"
          ]
        }
      ]
    },
    {
      "cell_type": "code",
      "source": [
        "accuracy_test = accuracy_score(y_test, predictions_test)"
      ],
      "metadata": {
        "id": "Q2mKUFH9CHs8"
      },
      "execution_count": 82,
      "outputs": []
    },
    {
      "cell_type": "code",
      "source": [
        "accuracy_test"
      ],
      "metadata": {
        "colab": {
          "base_uri": "https://localhost:8080/"
        },
        "id": "vaNWKjtrCS6U",
        "outputId": "97df9938-1f90-40b6-fc45-b95fcc9a865c"
      },
      "execution_count": 83,
      "outputs": [
        {
          "output_type": "execute_result",
          "data": {
            "text/plain": [
              "0.9833333333333333"
            ]
          },
          "metadata": {},
          "execution_count": 83
        }
      ]
    },
    {
      "cell_type": "code",
      "source": [
        "print(classification_report(y_test, predictions_test))"
      ],
      "metadata": {
        "id": "qORDnaRgD3lj",
        "colab": {
          "base_uri": "https://localhost:8080/"
        },
        "outputId": "cfeb64f2-e593-4c58-a786-1c90d799504d"
      },
      "execution_count": 84,
      "outputs": [
        {
          "output_type": "stream",
          "name": "stdout",
          "text": [
            "              precision    recall  f1-score   support\n",
            "\n",
            "           0       0.25      0.33      0.29         3\n",
            "           1       0.99      0.99      0.99       297\n",
            "\n",
            "    accuracy                           0.98       300\n",
            "   macro avg       0.62      0.66      0.64       300\n",
            "weighted avg       0.99      0.98      0.98       300\n",
            "\n"
          ]
        }
      ]
    },
    {
      "cell_type": "code",
      "source": [
        "print(f'Test Accuracy: {accuracy_test}')"
      ],
      "metadata": {
        "colab": {
          "base_uri": "https://localhost:8080/"
        },
        "id": "fpGrqARrlnDP",
        "outputId": "c56672d2-7e15-468b-e193-b12f0cf5095c"
      },
      "execution_count": 85,
      "outputs": [
        {
          "output_type": "stream",
          "name": "stdout",
          "text": [
            "Test Accuracy: 0.9833333333333333\n"
          ]
        }
      ]
    },
    {
      "cell_type": "code",
      "source": [
        "from sklearn.metrics import confusion_matrix"
      ],
      "metadata": {
        "id": "pf2V_ZawKpba"
      },
      "execution_count": 86,
      "outputs": []
    },
    {
      "cell_type": "code",
      "source": [
        "confusion_matrix(y_test, predictions_test)"
      ],
      "metadata": {
        "colab": {
          "base_uri": "https://localhost:8080/"
        },
        "id": "z2DYaiSHLylq",
        "outputId": "8c7d6d6e-49be-4d3a-fc96-e399543ae37e"
      },
      "execution_count": 87,
      "outputs": [
        {
          "output_type": "execute_result",
          "data": {
            "text/plain": [
              "array([[  1,   2],\n",
              "       [  3, 294]])"
            ]
          },
          "metadata": {},
          "execution_count": 87
        }
      ]
    },
    {
      "cell_type": "code",
      "source": [
        "predictions_test.shape\n"
      ],
      "metadata": {
        "colab": {
          "base_uri": "https://localhost:8080/"
        },
        "id": "IW6slAtrL3Z2",
        "outputId": "1275f0ac-0959-493b-dcdc-3962f71993e2"
      },
      "execution_count": 88,
      "outputs": [
        {
          "output_type": "execute_result",
          "data": {
            "text/plain": [
              "(300,)"
            ]
          },
          "metadata": {},
          "execution_count": 88
        }
      ]
    },
    {
      "cell_type": "code",
      "source": [],
      "metadata": {
        "id": "s1q33dpAM2-G"
      },
      "execution_count": 88,
      "outputs": []
    }
  ]
}
