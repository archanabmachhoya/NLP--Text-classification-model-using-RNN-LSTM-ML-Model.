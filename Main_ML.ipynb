{
  "cells": [
    {
      "cell_type": "markdown",
      "source": [
        "###Import Library###"
      ],
      "metadata": {
        "id": "5fFLefo0Lz0_"
      }
    },
    {
      "cell_type": "code",
      "execution_count": 1,
      "metadata": {
        "id": "z0V0gP2r-MFh"
      },
      "outputs": [],
      "source": [
        "import nltk"
      ]
    },
    {
      "cell_type": "code",
      "execution_count": 2,
      "metadata": {
        "colab": {
          "base_uri": "https://localhost:8080/"
        },
        "id": "1ME0Cfi_-P3i",
        "outputId": "905a79cc-3cf0-49b1-d91f-bd1d2bcfac85"
      },
      "outputs": [
        {
          "output_type": "stream",
          "name": "stderr",
          "text": [
            "[nltk_data] Downloading package punkt to /root/nltk_data...\n",
            "[nltk_data]   Unzipping tokenizers/punkt.zip.\n"
          ]
        },
        {
          "output_type": "execute_result",
          "data": {
            "text/plain": [
              "True"
            ]
          },
          "metadata": {},
          "execution_count": 2
        }
      ],
      "source": [
        "nltk.download('punkt')"
      ]
    },
    {
      "cell_type": "code",
      "execution_count": 3,
      "metadata": {
        "colab": {
          "base_uri": "https://localhost:8080/"
        },
        "id": "NXCHaFTE-vh6",
        "outputId": "d6a352c3-59ed-44f6-f6cb-a72ede70665a"
      },
      "outputs": [
        {
          "output_type": "stream",
          "name": "stderr",
          "text": [
            "[nltk_data] Downloading package stopwords to /root/nltk_data...\n",
            "[nltk_data]   Unzipping corpora/stopwords.zip.\n"
          ]
        },
        {
          "output_type": "execute_result",
          "data": {
            "text/plain": [
              "True"
            ]
          },
          "metadata": {},
          "execution_count": 3
        }
      ],
      "source": [
        "nltk.download('stopwords')"
      ]
    },
    {
      "cell_type": "code",
      "execution_count": 4,
      "metadata": {
        "id": "hzDfllC-G4cm"
      },
      "outputs": [],
      "source": [
        "import json"
      ]
    },
    {
      "cell_type": "markdown",
      "source": [
        "###Load the json data###"
      ],
      "metadata": {
        "id": "8Wsulc6yL46z"
      }
    },
    {
      "cell_type": "code",
      "execution_count": 5,
      "metadata": {
        "id": "b33475f5_HyV"
      },
      "outputs": [],
      "source": [
        "with open('pavbhaji.json', 'r',encoding='utf-8') as file:\n",
        "    data = json.load(file)\n"
      ]
    },
    {
      "cell_type": "code",
      "execution_count": 25,
      "metadata": {
        "colab": {
          "base_uri": "https://localhost:8080/"
        },
        "id": "_Tb2sR0TxMHu",
        "outputId": "bc47c6b4-634e-4acd-e99f-5e92c4cf8483"
      },
      "outputs": [
        {
          "output_type": "execute_result",
          "data": {
            "text/plain": [
              "{'dimensions': {'height': 734, 'width': 640},\n",
              " 'display_url': 'https://instagram.fpnq3-1.fna.fbcdn.net/vp/352198856dbdacba4b84a4a9a77ad087/5B8644A9/t51.2885-15/e15/37599530_291077411445016_3382263118984904704_n.jpg',\n",
              " 'edge_liked_by': {'count': 3797},\n",
              " 'edge_media_preview_like': {'count': 3797},\n",
              " 'edge_media_to_caption': {'edges': [{'node': {'text': 'TAG A PAV BHAJI FANATIC 😋😍 PC @exploringplates For more food updates follow @ekplate To get featured tag us on your pictures ❤ .\\n.\\n#ekplate #nomnom #nom #delhi_igers #eeeeeats #foodaholic #foodblogger #foodphotography #foodcoma #foodgram #things2doinmumbai #foodblog #foodgasm #foodlove #india  #foodie #yummy  #bombay #mumbai #delhi #pune  #bangalore #streetfood  #ekplatepavbhaji #butter #vadapav #pavbhaji #mumbaifood'}}]},\n",
              " 'edge_media_to_comment': {'count': 52},\n",
              " 'id': '1834712933156555738',\n",
              " 'is_video': True,\n",
              " 'location': None,\n",
              " 'owner': {'id': '1919686029'},\n",
              " 'shortcode': 'Bl2NbElnIva',\n",
              " 'tags': ['vadapav',\n",
              "  'foodgram',\n",
              "  'foodphotography',\n",
              "  'foodblogger',\n",
              "  'mumbai',\n",
              "  'foodaholic',\n",
              "  'foodie',\n",
              "  'foodcoma',\n",
              "  'ekplate',\n",
              "  'foodlove',\n",
              "  'things2doinmumbai',\n",
              "  'foodblog',\n",
              "  'nomnom',\n",
              "  'pune',\n",
              "  'india',\n",
              "  'butter',\n",
              "  'yummy',\n",
              "  'nom',\n",
              "  'eeeeeats',\n",
              "  'ekplatepavbhaji',\n",
              "  'mumbaifood',\n",
              "  'bombay',\n",
              "  'streetfood',\n",
              "  'pavbhaji',\n",
              "  'bangalore',\n",
              "  'delhi',\n",
              "  'delhi_igers',\n",
              "  'foodgasm'],\n",
              " 'taken_at_timestamp': 1532934873,\n",
              " 'thumbnail_resources': [{'config_height': 150,\n",
              "   'config_width': 150,\n",
              "   'src': 'https://instagram.fpnq3-1.fna.fbcdn.net/vp/4ac6fcd1102331286754c9679d8ecaf1/5B861BA4/t51.2885-15/e15/c0.47.640.640/s150x150/37599530_291077411445016_3382263118984904704_n.jpg'},\n",
              "  {'config_height': 240,\n",
              "   'config_width': 240,\n",
              "   'src': 'https://instagram.fpnq3-1.fna.fbcdn.net/vp/355ef69c0cae800c6ed1c63b4913dacc/5B86B9AE/t51.2885-15/e15/c0.47.640.640/s240x240/37599530_291077411445016_3382263118984904704_n.jpg'},\n",
              "  {'config_height': 320,\n",
              "   'config_width': 320,\n",
              "   'src': 'https://instagram.fpnq3-1.fna.fbcdn.net/vp/96ec4a75f0737e7452075a2e067faa24/5B862CD4/t51.2885-15/e15/c0.47.640.640/s320x320/37599530_291077411445016_3382263118984904704_n.jpg'},\n",
              "  {'config_height': 480,\n",
              "   'config_width': 480,\n",
              "   'src': 'https://instagram.fpnq3-1.fna.fbcdn.net/vp/f2df209eb157f8da5819e3faf7d6f255/5B86FECE/t51.2885-15/e15/c0.47.640.640/s480x480/37599530_291077411445016_3382263118984904704_n.jpg'},\n",
              "  {'config_height': 640,\n",
              "   'config_width': 640,\n",
              "   'src': 'https://instagram.fpnq3-1.fna.fbcdn.net/vp/cb5203975a03d7a4c67264754507e2ea/5B871BCE/t51.2885-15/e15/c0.47.640.640/37599530_291077411445016_3382263118984904704_n.jpg'}],\n",
              " 'thumbnail_src': 'https://instagram.fpnq3-1.fna.fbcdn.net/vp/cb5203975a03d7a4c67264754507e2ea/5B871BCE/t51.2885-15/e15/c0.47.640.640/37599530_291077411445016_3382263118984904704_n.jpg',\n",
              " 'urls': ['https://instagram.fpnq3-1.fna.fbcdn.net/vp/890c057edd2de89de603f883bd08466f/5B8716A5/t50.2886-16/37391829_221441488517723_1810403164227108864_n.mp4'],\n",
              " 'video_view_count': 0}"
            ]
          },
          "metadata": {},
          "execution_count": 25
        }
      ],
      "source": [
        "data[0]"
      ]
    },
    {
      "cell_type": "code",
      "execution_count": 7,
      "metadata": {
        "id": "VZd6D8n-2ZdY"
      },
      "outputs": [],
      "source": [
        "import json\n",
        "\n",
        "def load_json_data(json_file_path):\n",
        "    with open(json_file_path, 'r', encoding='utf-8') as json_file:\n",
        "        data = json.load(json_file)\n",
        "    return data"
      ]
    },
    {
      "cell_type": "code",
      "execution_count": 8,
      "metadata": {
        "id": "B_52lDMI2MgN"
      },
      "outputs": [],
      "source": [
        "data = load_json_data(\"pavbhaji.json\")"
      ]
    },
    {
      "cell_type": "markdown",
      "source": [
        "#### Extract texts and labels###\n"
      ],
      "metadata": {
        "id": "_lVcNL8OMDmH"
      }
    },
    {
      "cell_type": "code",
      "execution_count": 9,
      "metadata": {
        "colab": {
          "base_uri": "https://localhost:8080/"
        },
        "id": "juOdW-be3jaC",
        "outputId": "790005e0-eeb2-4e69-a57f-61c0036c2ccb"
      },
      "outputs": [
        {
          "output_type": "stream",
          "name": "stdout",
          "text": [
            "Skipping entry due to error: list index out of range\n",
            "{'comments_disabled': False, 'dimensions': {'height': 1080, 'width': 1080}, 'display_url': 'https://instagram.fpnq3-1.fna.fbcdn.net/vp/c6dac55b57c2e87ecb96315519b1459c/5C02F331/t51.2885-15/e35/38885028_254267458551198_8280479196141060096_n.jpg', 'edge_liked_by': {'count': 17}, 'edge_media_preview_like': {'count': 17}, 'edge_media_to_caption': {'edges': []}, 'edge_media_to_comment': {'count': 2}, 'id': '1850713497443087014', 'is_video': False, 'location': {'has_public_page': True, 'id': '216978098', 'name': 'Mumbai, Maharashtra', 'slug': 'mumbai-maharashtra'}, 'owner': {'id': '8430771130'}, 'shortcode': 'BmvDh7UHbKm', 'taken_at_timestamp': 1534842262, 'thumbnail_resources': [{'config_height': 150, 'config_width': 150, 'src': 'https://instagram.fpnq3-1.fna.fbcdn.net/vp/84b28b95442e3eedaa87eed3dde75f26/5C314973/t51.2885-15/e35/s150x150/38885028_254267458551198_8280479196141060096_n.jpg'}, {'config_height': 240, 'config_width': 240, 'src': 'https://instagram.fpnq3-1.fna.fbcdn.net/vp/b02ac51526637d5565134f3df8d92c91/5C17DD39/t51.2885-15/e35/s240x240/38885028_254267458551198_8280479196141060096_n.jpg'}, {'config_height': 320, 'config_width': 320, 'src': 'https://instagram.fpnq3-1.fna.fbcdn.net/vp/6c492e6af0a42dadceffa8b171320c88/5C33FF83/t51.2885-15/e35/s320x320/38885028_254267458551198_8280479196141060096_n.jpg'}, {'config_height': 480, 'config_width': 480, 'src': 'https://instagram.fpnq3-1.fna.fbcdn.net/vp/e5a1821183e9735be942bae27f7f4ad6/5C04B8D9/t51.2885-15/e35/s480x480/38885028_254267458551198_8280479196141060096_n.jpg'}, {'config_height': 640, 'config_width': 640, 'src': 'https://instagram.fpnq3-1.fna.fbcdn.net/vp/2d2e6ce1e386e5a919fcd3abc6f27090/5C35FED4/t51.2885-15/sh0.08/e35/s640x640/38885028_254267458551198_8280479196141060096_n.jpg'}], 'thumbnail_src': 'https://instagram.fpnq3-1.fna.fbcdn.net/vp/2d2e6ce1e386e5a919fcd3abc6f27090/5C35FED4/t51.2885-15/sh0.08/e35/s640x640/38885028_254267458551198_8280479196141060096_n.jpg', 'urls': ['https://instagram.fpnq4-1.fna.fbcdn.net/vp/c6dac55b57c2e87ecb96315519b1459c/5C02F331/t51.2885-15/e35/38885028_254267458551198_8280479196141060096_n.jpg']}\n"
          ]
        }
      ],
      "source": [
        "texts = []\n",
        "labels = []\n",
        "for entry in data:\n",
        "    try:\n",
        "        text = entry[\"edge_media_to_caption\"][\"edges\"][0][\"node\"][\"text\"]\n",
        "        label = 1 if \"#pavbhaji\" in text.lower() else 0\n",
        "        texts.append(text)\n",
        "        labels.append(label)\n",
        "\n",
        "        #print(f\"Text: {text}\")\n",
        "        #print(f\"Label: {label}\")\n",
        "\n",
        "    except (KeyError, IndexError) as e:\n",
        "        print(f\"Skipping entry due to error: {e}\")\n",
        "        print(entry)"
      ]
    },
    {
      "cell_type": "markdown",
      "source": [
        "###Text Preprocessing###"
      ],
      "metadata": {
        "id": "qm6jm7uwMUm3"
      }
    },
    {
      "cell_type": "code",
      "execution_count": 10,
      "metadata": {
        "id": "8Q93LyZl-X0h"
      },
      "outputs": [],
      "source": [
        "import re\n",
        "from nltk.tokenize import word_tokenize\n",
        "from nltk.corpus import stopwords\n",
        "\n",
        "def preprocess_text(text):\n",
        "    text = text.lower()\n",
        "    text = re.sub(r'[^a-z]', ' ', text)\n",
        "    words = word_tokenize(text)\n",
        "    words = [word for word in words if word not in stopwords.words('english')]\n",
        "    return ' '.join(words)\n",
        "\n",
        "cleaned_text_features = [preprocess_text(text) for text in texts]"
      ]
    },
    {
      "cell_type": "code",
      "execution_count": 26,
      "metadata": {
        "colab": {
          "base_uri": "https://localhost:8080/"
        },
        "id": "lrDUSWVeA0RV",
        "outputId": "73acba22-2a29-4cac-e8a2-92234f3ad946"
      },
      "outputs": [
        {
          "output_type": "execute_result",
          "data": {
            "text/plain": [
              "['desi style paav bhaji good afternoon instafamily ingredients potatoes cauliflower carrot cup peas cups water tbsp oil tbsp ginger garlic paste onions finely chopped tomatoes finaly chopped tbsp red chilli powder tbsp kashmiri red chilli tbsp pav bhaji masala salt taste coriander garnish recipe pressure cook roughly chopped potatoes cauliflower carrot peas cups water whistles mash boiled veggies keep aside heat oil wok add ginger garlic paste cook till aroma fades away add onions cook till turn light brown add tomatoes cook till corner leaves oil add red chilli powder kashmiri chilli powder pav bhaji masala mix add mashed veggies salt mix cook mints adjust consistency adding water stir mash veggies garnish coriander serve hot pav follow sofaridabad homemade food updates please turn post notification use sofaridabad get featured page pavbhaji streetstyle homemadewithlove homecooked cooking streetfood mumbaifoodie views eat tastyfood favourite dish carrot vegetarian vegetables healthylifestyle healthyfood sokolkata chennaifoodie indianfoodbloggers incredibile india eeeeeats likes foodorgasm foodfood faridabad instalove foodiesince delhi eats myfoodproject nomnom x iamdatingfood therawtextures sanjeevkapoor foodiecouple parvan foodieincarnate sodelhi foodtalkindia eattreat zingyzest thisisdelhi chefkunal vikaskhannagroup',\n",
              " 'pav bhaji follow street food chandigarh use streetfoodchandigarh picoftheday foodholic delhigram instashot soogood mumbaipeople nom delhiflavours feedfeed foodphotography eeeeats nomnom chessy pull pavbhaji foodtalkindia sodelicious sodelhi tastyfood delhiboy chickenislife mumbaifood therawtextures foodiesince foodgasm vascom foodlover',\n",
              " 'asli makhan pav bhaji tag someone loves creamcentrenagpur fine dine restaurant good place vegetarians located prime location city satisfying pavbhaji loveit follow misscravingbuster misscravingbuster misscravingbuster misscravingbuster misscravingbuster pavbhaji creamcentrenagpur creamcentre nagpur delhi mumbai viralvideos nagpurfoodblogger foodforfoodie foodblogger foodislove foodislife foodforever instagood besmartnloveall rockingindians foodvideo plixoo thepost today plixooblogger likeforlike vforveggie veganpost zingyzest thegreatindianfoodie justdelhiing insiderdessert bestfood aroundtheworld eattreat saadidilli delhi eats dilli ke pakwan nomnom x saadidilli bruisedpassports khau gali foodie foodiebaniya plixxo popxoyum v veggie tastemade taste eat devourpower thisisinsiderfood foodbeast foodtalkindia foodyfetish zingyzest foodnetwork trellingfood bbcgoodfood noleftovers trellingnagpur whatdillieats food lunatic foodofmumbai poojadhingra',\n",
              " 'tag pav bhaji lover']"
            ]
          },
          "metadata": {},
          "execution_count": 26
        }
      ],
      "source": [
        "cleaned_text_features[1:5]"
      ]
    },
    {
      "cell_type": "markdown",
      "source": [
        "###Train Test split###"
      ],
      "metadata": {
        "id": "R-cYFRHDNmkh"
      }
    },
    {
      "cell_type": "code",
      "execution_count": 12,
      "metadata": {
        "id": "M69z1QWo5ZM4"
      },
      "outputs": [],
      "source": [
        "from sklearn.model_selection import train_test_split"
      ]
    },
    {
      "cell_type": "code",
      "execution_count": 13,
      "metadata": {
        "id": "8w3ZDtcKwPo2"
      },
      "outputs": [],
      "source": [
        "X_train, X_test, y_train, y_test = train_test_split(cleaned_text_features, labels, test_size=0.2, random_state=42)"
      ]
    },
    {
      "cell_type": "code",
      "execution_count": 14,
      "metadata": {
        "id": "J0iMh1j25kos"
      },
      "outputs": [],
      "source": [
        "from sklearn.feature_extraction.text import TfidfVectorizer"
      ]
    },
    {
      "cell_type": "markdown",
      "source": [
        "###TF IDF###"
      ],
      "metadata": {
        "id": "N9nn3j8uNwDD"
      }
    },
    {
      "cell_type": "code",
      "execution_count": 15,
      "metadata": {
        "id": "gwCGpMivgL_T"
      },
      "outputs": [],
      "source": [
        "vectorizer = TfidfVectorizer()\n",
        "X_train_vectorized = vectorizer.fit_transform(X_train)\n",
        "X_test_vectorized = vectorizer.transform(X_test)"
      ]
    },
    {
      "cell_type": "markdown",
      "source": [
        "###Import and Apply Model###"
      ],
      "metadata": {
        "id": "H9VPKKU8N3IX"
      }
    },
    {
      "cell_type": "code",
      "execution_count": 16,
      "metadata": {
        "id": "3_QGzDBG6ZjM"
      },
      "outputs": [],
      "source": [
        "from sklearn.naive_bayes import MultinomialNB\n",
        "from sklearn.metrics import accuracy_score, classification_report\n",
        "from sklearn.metrics import confusion_matrix"
      ]
    },
    {
      "cell_type": "code",
      "execution_count": 17,
      "metadata": {
        "colab": {
          "base_uri": "https://localhost:8080/",
          "height": 74
        },
        "id": "BnzLgRE16HL_",
        "outputId": "abb352ca-bb2f-4307-d852-98bf0a0ccb8c"
      },
      "outputs": [
        {
          "output_type": "execute_result",
          "data": {
            "text/plain": [
              "MultinomialNB()"
            ],
            "text/html": [
              "<style>#sk-container-id-1 {color: black;background-color: white;}#sk-container-id-1 pre{padding: 0;}#sk-container-id-1 div.sk-toggleable {background-color: white;}#sk-container-id-1 label.sk-toggleable__label {cursor: pointer;display: block;width: 100%;margin-bottom: 0;padding: 0.3em;box-sizing: border-box;text-align: center;}#sk-container-id-1 label.sk-toggleable__label-arrow:before {content: \"▸\";float: left;margin-right: 0.25em;color: #696969;}#sk-container-id-1 label.sk-toggleable__label-arrow:hover:before {color: black;}#sk-container-id-1 div.sk-estimator:hover label.sk-toggleable__label-arrow:before {color: black;}#sk-container-id-1 div.sk-toggleable__content {max-height: 0;max-width: 0;overflow: hidden;text-align: left;background-color: #f0f8ff;}#sk-container-id-1 div.sk-toggleable__content pre {margin: 0.2em;color: black;border-radius: 0.25em;background-color: #f0f8ff;}#sk-container-id-1 input.sk-toggleable__control:checked~div.sk-toggleable__content {max-height: 200px;max-width: 100%;overflow: auto;}#sk-container-id-1 input.sk-toggleable__control:checked~label.sk-toggleable__label-arrow:before {content: \"▾\";}#sk-container-id-1 div.sk-estimator input.sk-toggleable__control:checked~label.sk-toggleable__label {background-color: #d4ebff;}#sk-container-id-1 div.sk-label input.sk-toggleable__control:checked~label.sk-toggleable__label {background-color: #d4ebff;}#sk-container-id-1 input.sk-hidden--visually {border: 0;clip: rect(1px 1px 1px 1px);clip: rect(1px, 1px, 1px, 1px);height: 1px;margin: -1px;overflow: hidden;padding: 0;position: absolute;width: 1px;}#sk-container-id-1 div.sk-estimator {font-family: monospace;background-color: #f0f8ff;border: 1px dotted black;border-radius: 0.25em;box-sizing: border-box;margin-bottom: 0.5em;}#sk-container-id-1 div.sk-estimator:hover {background-color: #d4ebff;}#sk-container-id-1 div.sk-parallel-item::after {content: \"\";width: 100%;border-bottom: 1px solid gray;flex-grow: 1;}#sk-container-id-1 div.sk-label:hover label.sk-toggleable__label {background-color: #d4ebff;}#sk-container-id-1 div.sk-serial::before {content: \"\";position: absolute;border-left: 1px solid gray;box-sizing: border-box;top: 0;bottom: 0;left: 50%;z-index: 0;}#sk-container-id-1 div.sk-serial {display: flex;flex-direction: column;align-items: center;background-color: white;padding-right: 0.2em;padding-left: 0.2em;position: relative;}#sk-container-id-1 div.sk-item {position: relative;z-index: 1;}#sk-container-id-1 div.sk-parallel {display: flex;align-items: stretch;justify-content: center;background-color: white;position: relative;}#sk-container-id-1 div.sk-item::before, #sk-container-id-1 div.sk-parallel-item::before {content: \"\";position: absolute;border-left: 1px solid gray;box-sizing: border-box;top: 0;bottom: 0;left: 50%;z-index: -1;}#sk-container-id-1 div.sk-parallel-item {display: flex;flex-direction: column;z-index: 1;position: relative;background-color: white;}#sk-container-id-1 div.sk-parallel-item:first-child::after {align-self: flex-end;width: 50%;}#sk-container-id-1 div.sk-parallel-item:last-child::after {align-self: flex-start;width: 50%;}#sk-container-id-1 div.sk-parallel-item:only-child::after {width: 0;}#sk-container-id-1 div.sk-dashed-wrapped {border: 1px dashed gray;margin: 0 0.4em 0.5em 0.4em;box-sizing: border-box;padding-bottom: 0.4em;background-color: white;}#sk-container-id-1 div.sk-label label {font-family: monospace;font-weight: bold;display: inline-block;line-height: 1.2em;}#sk-container-id-1 div.sk-label-container {text-align: center;}#sk-container-id-1 div.sk-container {/* jupyter's `normalize.less` sets `[hidden] { display: none; }` but bootstrap.min.css set `[hidden] { display: none !important; }` so we also need the `!important` here to be able to override the default hidden behavior on the sphinx rendered scikit-learn.org. See: https://github.com/scikit-learn/scikit-learn/issues/21755 */display: inline-block !important;position: relative;}#sk-container-id-1 div.sk-text-repr-fallback {display: none;}</style><div id=\"sk-container-id-1\" class=\"sk-top-container\"><div class=\"sk-text-repr-fallback\"><pre>MultinomialNB()</pre><b>In a Jupyter environment, please rerun this cell to show the HTML representation or trust the notebook. <br />On GitHub, the HTML representation is unable to render, please try loading this page with nbviewer.org.</b></div><div class=\"sk-container\" hidden><div class=\"sk-item\"><div class=\"sk-estimator sk-toggleable\"><input class=\"sk-toggleable__control sk-hidden--visually\" id=\"sk-estimator-id-1\" type=\"checkbox\" checked><label for=\"sk-estimator-id-1\" class=\"sk-toggleable__label sk-toggleable__label-arrow\">MultinomialNB</label><div class=\"sk-toggleable__content\"><pre>MultinomialNB()</pre></div></div></div></div></div>"
            ]
          },
          "metadata": {},
          "execution_count": 17
        }
      ],
      "source": [
        "model = MultinomialNB()\n",
        "model.fit(X_train_vectorized, y_train)"
      ]
    },
    {
      "cell_type": "markdown",
      "source": [
        "###Predict the Model###"
      ],
      "metadata": {
        "id": "1Omgw6EnN9IV"
      }
    },
    {
      "cell_type": "code",
      "execution_count": 18,
      "metadata": {
        "id": "1ZBNMU7n6K_j"
      },
      "outputs": [],
      "source": [
        "predictions = model.predict(X_test_vectorized)"
      ]
    },
    {
      "cell_type": "markdown",
      "source": [
        "###Evaluate the Model###"
      ],
      "metadata": {
        "id": "C-LFI5f4OBRJ"
      }
    },
    {
      "cell_type": "code",
      "execution_count": 19,
      "metadata": {
        "colab": {
          "base_uri": "https://localhost:8080/"
        },
        "id": "stYqWsW86PAU",
        "outputId": "6b27f811-6326-4bb2-fbcf-370a44f9c12a"
      },
      "outputs": [
        {
          "output_type": "stream",
          "name": "stdout",
          "text": [
            "Accuracy: 0.9833333333333333\n",
            "              precision    recall  f1-score   support\n",
            "\n",
            "           0       1.00      0.17      0.29         6\n",
            "           1       0.98      1.00      0.99       294\n",
            "\n",
            "    accuracy                           0.98       300\n",
            "   macro avg       0.99      0.58      0.64       300\n",
            "weighted avg       0.98      0.98      0.98       300\n",
            "\n"
          ]
        }
      ],
      "source": [
        "accuracy = accuracy_score(y_test, predictions)\n",
        "print(f'Accuracy: {accuracy}')\n",
        "print(classification_report(y_test, predictions))"
      ]
    },
    {
      "cell_type": "code",
      "execution_count": 21,
      "metadata": {
        "colab": {
          "base_uri": "https://localhost:8080/",
          "height": 36
        },
        "id": "Xi54g8Aq6R8H",
        "outputId": "ca64cd34-9de2-47d8-8970-c56a73584f5f"
      },
      "outputs": [
        {
          "output_type": "execute_result",
          "data": {
            "text/plain": [
              "'say pavbhaji fastfood fastfoodporn foodie foody ymmy lajpatnagar delhigram sundayfunday northindianfood bloggerstyle'"
            ],
            "application/vnd.google.colaboratory.intrinsic+json": {
              "type": "string"
            }
          },
          "metadata": {},
          "execution_count": 21
        }
      ],
      "source": [
        "X_test[50]"
      ]
    },
    {
      "cell_type": "code",
      "execution_count": 22,
      "metadata": {
        "colab": {
          "base_uri": "https://localhost:8080/"
        },
        "id": "M63a92hx6iqA",
        "outputId": "a3173e6a-e425-4b84-9515-8b53c75c73cd"
      },
      "outputs": [
        {
          "output_type": "execute_result",
          "data": {
            "text/plain": [
              "1"
            ]
          },
          "metadata": {},
          "execution_count": 22
        }
      ],
      "source": [
        "y_test[50]"
      ]
    },
    {
      "cell_type": "code",
      "execution_count": 23,
      "metadata": {
        "colab": {
          "base_uri": "https://localhost:8080/"
        },
        "id": "sANMpNyf6m0F",
        "outputId": "e2479b76-6ae7-4882-9379-5bdbe7761485"
      },
      "outputs": [
        {
          "output_type": "execute_result",
          "data": {
            "text/plain": [
              "array([[  1,   5],\n",
              "       [  0, 294]])"
            ]
          },
          "metadata": {},
          "execution_count": 23
        }
      ],
      "source": [
        "confusion_matrix(y_test, predictions)"
      ]
    },
    {
      "cell_type": "code",
      "source": [],
      "metadata": {
        "id": "MSt1ioYfSMfy"
      },
      "execution_count": 23,
      "outputs": []
    }
  ],
  "metadata": {
    "colab": {
      "provenance": []
    },
    "kernelspec": {
      "display_name": "Python 3",
      "name": "python3"
    },
    "language_info": {
      "name": "python"
    }
  },
  "nbformat": 4,
  "nbformat_minor": 0
}